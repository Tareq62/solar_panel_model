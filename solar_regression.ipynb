{
 "cells": [
  {
   "cell_type": "code",
   "execution_count": 1,
   "metadata": {},
   "outputs": [],
   "source": [
    "import pandas as pd\n",
    "import numpy as np\n",
    "import matplotlib.pyplot as plt\n",
    "from sklearn.model_selection import train_test_split\n",
    "from sklearn.linear_model import LinearRegression\n",
    "from sklearn.metrics import mean_squared_error, mean_absolute_error\n",
    "from sklearn import preprocessing\n",
    "import datetime"
   ]
  },
  {
   "cell_type": "markdown",
   "metadata": {},
   "source": [
    "After importing our libraries, we read the CSV file containing information about solar power generated (MW) every 5 minutes for the whole year of 2006. We split the Date and Time information into new colums so we can later aggregate the total amount of power generated per day."
   ]
  },
  {
   "cell_type": "code",
   "execution_count": 5,
   "metadata": {},
   "outputs": [
    {
     "name": "stdout",
     "output_type": "stream",
     "text": [
      "            LocalTime  Power(MW)        Date      Time\n",
      "0 2006-01-01 00:00:00        0.0  2006-01-01  00:00:00\n",
      "1 2006-01-01 00:05:00        0.0  2006-01-01  00:05:00\n",
      "2 2006-01-01 00:10:00        0.0  2006-01-01  00:10:00\n",
      "3 2006-01-01 00:15:00        0.0  2006-01-01  00:15:00\n",
      "4 2006-01-01 00:20:00        0.0  2006-01-01  00:20:00\n"
     ]
    }
   ],
   "source": [
    "df = pd.read_csv('/Users/tareq/solar_panel_model/ny-pv-2006/Actual_40.85_-73.85_2006_DPV_21MW_5_Min.csv')\n",
    "#url = 'https://github.com/Tareq62/solar_panel_model/blob/master/Actual_40.85_-73.85_2006_DPV_21MW_5_Min.csv'\n",
    "#df = pd.read_csv(url)\n",
    "\n",
    "df['LocalTime'] = pd.to_datetime(df['LocalTime']) \n",
    "df['Date'] = df['LocalTime'].dt.date\n",
    "df['Time'] = df['LocalTime'].dt.time\n",
    "print(df.head())"
   ]
  },
  {
   "cell_type": "markdown",
   "metadata": {},
   "source": [
    "Understandably, no power was generated around midnight on January 1 as shown in the preview. For the purposes of our analysis, we don't need 5-minute resolution. We'll want to take the sum of MW generated over each full day in the year, so we can later assign that total value as the independent variable correlate to other local weather features from a separate dataset."
   ]
  },
  {
   "cell_type": "code",
   "execution_count": 18,
   "metadata": {},
   "outputs": [
    {
     "data": {
      "image/png": "[encoded data removed]",
      "text/plain": [
       "<Figure size 1800x500 with 1 Axes>"
      ]
     },
     "metadata": {},
     "output_type": "display_data"
    }
   ],
   "source": [
    "df2 = df.groupby('Date').sum('Power(MW)').reset_index()\n",
    "df2.plot(kind='bar', x='Date', y='Power(MW)', xlabel='Days of the Year 2006', ylabel='Total MW Generated')\n",
    "plt.gca().xaxis.set_major_locator(plt.NullLocator())\n",
    "plt.gcf().set_size_inches(18, 5)"
   ]
  },
  {
   "cell_type": "markdown",
   "metadata": {},
   "source": [
    "Above, we can see a bell curve distribution among the high values, peaking in the summer months, with plenty of days interspersed with much lower values. To try to create a predictive model for total power generated per day, let's load up a separate CSV file containing key weather features for the corresponding time and place: the year 2006 in The Bronx, NY. "
   ]
  },
  {
   "cell_type": "code",
   "execution_count": 19,
   "metadata": {},
   "outputs": [
    {
     "name": "stdout",
     "output_type": "stream",
     "text": [
      "         Date  TempF       TempK  HrsDaylight  Humidity  Precipitation\n",
      "0  2006-01-01   37.7  276.316667         9.00      75.2           0.00\n",
      "1  2006-01-02   42.2  278.816667         9.04      73.7           0.58\n",
      "2  2006-01-03   37.9  276.427778         9.08      85.2           0.89\n",
      "3  2006-01-04   34.3  274.427778         9.12      70.4           0.00\n",
      "4  2006-01-05   42.5  278.983333         9.16      76.5           0.07\n"
     ]
    }
   ],
   "source": [
    "#column_names=['Date', 'TempF', 'TempK', 'Hrs_Daylight', 'Humdity', 'Precipitation']\n",
    "features_df = pd.read_csv('/Users/tareq/solar_panel_model/Bronx_Weather_2006.csv', header=0)\n",
    "print(features_df.head())\n"
   ]
  },
  {
   "cell_type": "markdown",
   "metadata": {},
   "source": [
    "Let's merge these two dataframes on Date (2006-01-01 to 2006-12-31) so we can draw our dependent and independent variables from the same place. We'll also drop TempF in favor of TempK, Kelvin units, so we can more accurately capture what it would mean for the temperature to \"double\", for example."
   ]
  },
  {
   "cell_type": "code",
   "execution_count": 21,
   "metadata": {},
   "outputs": [
    {
     "name": "stdout",
     "output_type": "stream",
     "text": [
      "         Date  Power(MW)       TempK  HrsDaylight  Humidity  Precipitation\n",
      "0  2006-01-01      451.3  276.316667         9.00      75.2           0.00\n",
      "1  2006-01-02      557.7  278.816667         9.04      73.7           0.58\n",
      "2  2006-01-03      164.7  276.427778         9.08      85.2           0.89\n",
      "3  2006-01-04      567.5  274.427778         9.12      70.4           0.00\n",
      "4  2006-01-05      418.6  278.983333         9.16      76.5           0.07\n"
     ]
    }
   ],
   "source": [
    "merge_df = df2.merge(features_df,\n",
    "                  on ='Date', how='right')\n",
    "merge_df['Power(MW)'] = df2['Power(MW)']\n",
    "merge_df = merge_df.drop(['TempF'],axis=1)\n",
    "print(merge_df.head())\n",
    "#merge_df.to_csv('Bronx_Weather_Power_2006.csv') optional save"
   ]
  },
  {
   "cell_type": "markdown",
   "metadata": {},
   "source": [
    "To train a linear regression model, we can now set the independent variables (X) as every column except Date and Power(MW), and set the dependent variable (y) to the column Power(MW) only. We can separate out a test set from our majority of training data to run predictions on later."
   ]
  },
  {
   "cell_type": "code",
   "execution_count": 44,
   "metadata": {},
   "outputs": [
    {
     "name": "stdout",
     "output_type": "stream",
     "text": [
      "        Feature:  Coefficient:\n",
      "0          TempK      1.598162\n",
      "1    HrsDaylight    102.127750\n",
      "2       Humidity    -15.847689\n",
      "3  Precipitation    -49.077422\n"
     ]
    }
   ],
   "source": [
    "X = merge_df.drop('Power(MW)',axis=1)\n",
    "X = X.drop('Date',axis=1)\n",
    "y = merge_df['Power(MW)'].to_numpy().reshape(-1, 1)\n",
    "\n",
    "# split train and test sets\n",
    "X_train, X_test, y_train, y_test = train_test_split(\n",
    "    X, y, test_size=0.1, random_state=40)\n",
    "\n",
    "# fit the LinearRegression model on the train set\n",
    "model = LinearRegression()\n",
    "model.fit(X_train, y_train)\n",
    "\n",
    "coefficients = pd.concat([pd.DataFrame(X.columns),pd.DataFrame(np.transpose(model.coef_))], axis=1, ignore_index=True)\n",
    "coefficients.rename(columns={0: 'Feature:', 1: 'Coefficient:'}, inplace=True)\n",
    "\n",
    "print(coefficients)\n"
   ]
  },
  {
   "cell_type": "markdown",
   "metadata": {},
   "source": [
    "As we might expect from these coefficients for each feature, TempK (temperature in Kelvin) and HrsDaylight are positively correlated with the amount of solar power produced, while Humidity and Precipitation are negatively correlated. Now that training is complete, we can run predictions on the test set based on the weather conditions, then compare the model's predictions to the actual values in Difference and % Error."
   ]
  },
  {
   "cell_type": "code",
   "execution_count": 54,
   "metadata": {},
   "outputs": [
    {
     "name": "stdout",
     "output_type": "stream",
     "text": [
      "    ActualValue(MW)  PredValue(MW)  Difference  % Error\n",
      "0            1286.4         1083.9       202.5    15.74\n",
      "1             881.9         1015.7       133.8    15.17\n",
      "2             812.3          749.2        63.1     7.77\n",
      "3             994.3          672.9       321.4    32.32\n",
      "4             494.2          554.8        60.6    12.26\n",
      "5             689.9          569.6       120.3    17.44\n",
      "6             367.5          633.2       265.7    72.30\n",
      "7            1198.4         1015.7       182.7    15.25\n",
      "8             860.4          845.0        15.4     1.79\n",
      "9            1435.2         1308.1       127.1     8.86\n",
      "10           1186.6          865.2       321.4    27.09\n",
      "11           1185.0         1122.4        62.6     5.28\n",
      "12           1186.9          927.2       259.7    21.88\n",
      "13            185.5          183.1         2.4     1.29\n",
      "14            786.8          697.5        89.3    11.35\n",
      "15            116.0          523.1       407.1   350.95\n",
      "16            567.5          301.4       266.1    46.89\n",
      "17            880.9          864.3        16.6     1.88\n",
      "18           1259.4         1142.4       117.0     9.29\n",
      "19            637.2          810.3       173.1    27.17\n",
      "20            171.5           44.9       126.6    73.82\n",
      "21           1335.6         1172.1       163.5    12.24\n",
      "22            953.7          677.6       276.1    28.95\n",
      "23            164.1          377.2       213.1   129.86\n",
      "24           1156.9         1004.6       152.3    13.16\n",
      "25           1474.5         1216.2       258.3    17.52\n",
      "26            735.4          742.8         7.4     1.01\n",
      "27            577.3          822.4       245.1    42.46\n",
      "28            235.9          463.5       227.6    96.48\n",
      "29             30.2          -21.1        51.3   169.87\n",
      "30            510.3          526.5        16.2     3.17\n",
      "31            416.5          706.4       289.9    69.60\n",
      "32           1151.1         1213.0        61.9     5.38\n",
      "33           1336.2         1202.0       134.2    10.04\n",
      "34           1264.8         1012.8       252.0    19.92\n",
      "35            726.2          637.2        89.0    12.26\n",
      "36            731.8          746.9        15.1     2.06\n"
     ]
    }
   ],
   "source": [
    "predictions = model.predict(X_test)\n",
    "\n",
    "predict_df = pd.DataFrame(y_test)\n",
    "predict_df.columns = ['ActualValue(MW)']\n",
    "\n",
    "predict_df['PredValue(MW)'] = predictions\n",
    "predict_df['PredValue(MW)'] = predict_df['PredValue(MW)'].apply(lambda value:round(value, 1))\n",
    "\n",
    "predict_df['Difference'] = abs(predictions - y_test)\n",
    "predict_df['Difference'] = predict_df['Difference'].apply(lambda value:round(value, 1))\n",
    "\n",
    "predict_df['% Error'] = round(100*(predict_df['Difference']/predict_df['ActualValue(MW)']), 2)\n",
    "\n",
    "print(predict_df)\n"
   ]
  }
 ],
 "metadata": {
  "interpreter": {
   "hash": "ce996626ee8a9f0330ceb454b62b7300c554f9cf9f21dcc2059048e1eac06c80"
  },
  "kernelspec": {
   "display_name": "Python 3.10.8 ('base')",
   "language": "python",
   "name": "python3"
  },
  "language_info": {
   "codemirror_mode": {
    "name": "ipython",
    "version": 3
   },
   "file_extension": ".py",
   "mimetype": "text/x-python",
   "name": "python",
   "nbconvert_exporter": "python",
   "pygments_lexer": "ipython3",
   "version": "3.10.8"
  },
  "orig_nbformat": 4
 },
 "nbformat": 4,
 "nbformat_minor": 2
}
